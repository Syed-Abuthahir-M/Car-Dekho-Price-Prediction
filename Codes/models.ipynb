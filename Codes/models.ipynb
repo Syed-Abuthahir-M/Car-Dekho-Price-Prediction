{
 "cells": [
  {
   "cell_type": "code",
   "execution_count": 80,
   "metadata": {},
   "outputs": [
    {
     "name": "stderr",
     "output_type": "stream",
     "text": [
      "<>:2: SyntaxWarning: invalid escape sequence '\\G'\n",
      "<>:2: SyntaxWarning: invalid escape sequence '\\G'\n",
      "C:\\Users\\syeda\\AppData\\Local\\Temp\\ipykernel_9220\\3256515552.py:2: SyntaxWarning: invalid escape sequence '\\G'\n",
      "  data = pd.read_csv(\"F:\\GUVI\\Project\\Car Dekho\\Codes\\Cleaned Data\\Final_data.csv\", index_col=0)\n"
     ]
    }
   ],
   "source": [
    "import pandas as pd\n",
    "data = pd.read_csv(\"F:\\GUVI\\Project\\Car Dekho\\Codes\\Cleaned Data\\Final_data.csv\", index_col=0)"
   ]
  },
  {
   "cell_type": "code",
   "execution_count": 81,
   "metadata": {},
   "outputs": [
    {
     "data": {
      "text/html": [
       "<div>\n",
       "<style scoped>\n",
       "    .dataframe tbody tr th:only-of-type {\n",
       "        vertical-align: middle;\n",
       "    }\n",
       "\n",
       "    .dataframe tbody tr th {\n",
       "        vertical-align: top;\n",
       "    }\n",
       "\n",
       "    .dataframe thead th {\n",
       "        text-align: right;\n",
       "    }\n",
       "</style>\n",
       "<table border=\"1\" class=\"dataframe\">\n",
       "  <thead>\n",
       "    <tr style=\"text-align: right;\">\n",
       "      <th></th>\n",
       "      <th>Body type</th>\n",
       "      <th>Kilometers driven</th>\n",
       "      <th>Transmission type</th>\n",
       "      <th>Number of Owners</th>\n",
       "      <th>Car model</th>\n",
       "      <th>Year of manufacture</th>\n",
       "      <th>price</th>\n",
       "      <th>Fuel Type</th>\n",
       "      <th>Insurance Validity</th>\n",
       "      <th>Seats</th>\n",
       "      <th>Engine</th>\n",
       "      <th>Mileage</th>\n",
       "      <th>Color</th>\n",
       "      <th>Turbo Charger</th>\n",
       "      <th>Super Charger</th>\n",
       "      <th>Steering Type</th>\n",
       "      <th>Top Speed</th>\n",
       "      <th>No of doors</th>\n",
       "      <th>Cargo Volumn</th>\n",
       "      <th>City</th>\n",
       "    </tr>\n",
       "  </thead>\n",
       "  <tbody>\n",
       "    <tr>\n",
       "      <th>0</th>\n",
       "      <td>Hatchback</td>\n",
       "      <td>120000</td>\n",
       "      <td>Manual</td>\n",
       "      <td>3</td>\n",
       "      <td>Maruti Celerio</td>\n",
       "      <td>2015</td>\n",
       "      <td>400000.0</td>\n",
       "      <td>Petrol</td>\n",
       "      <td>Third Party insurance</td>\n",
       "      <td>5.0</td>\n",
       "      <td>998.0</td>\n",
       "      <td>23.10</td>\n",
       "      <td>White</td>\n",
       "      <td>No</td>\n",
       "      <td>No</td>\n",
       "      <td>Power</td>\n",
       "      <td>150.0</td>\n",
       "      <td>5</td>\n",
       "      <td>235</td>\n",
       "      <td>bangalore</td>\n",
       "    </tr>\n",
       "    <tr>\n",
       "      <th>1</th>\n",
       "      <td>SUV</td>\n",
       "      <td>32706</td>\n",
       "      <td>Manual</td>\n",
       "      <td>2</td>\n",
       "      <td>Ford Ecosport</td>\n",
       "      <td>2018</td>\n",
       "      <td>811000.0</td>\n",
       "      <td>Petrol</td>\n",
       "      <td>Comprehensive</td>\n",
       "      <td>5.0</td>\n",
       "      <td>1497.0</td>\n",
       "      <td>17.00</td>\n",
       "      <td>White</td>\n",
       "      <td>No</td>\n",
       "      <td>No</td>\n",
       "      <td>Power</td>\n",
       "      <td>170.0</td>\n",
       "      <td>4</td>\n",
       "      <td>352</td>\n",
       "      <td>bangalore</td>\n",
       "    </tr>\n",
       "    <tr>\n",
       "      <th>2</th>\n",
       "      <td>Hatchback</td>\n",
       "      <td>11949</td>\n",
       "      <td>Manual</td>\n",
       "      <td>1</td>\n",
       "      <td>Tata Tiago</td>\n",
       "      <td>2018</td>\n",
       "      <td>585000.0</td>\n",
       "      <td>Petrol</td>\n",
       "      <td>Comprehensive</td>\n",
       "      <td>5.0</td>\n",
       "      <td>1199.0</td>\n",
       "      <td>23.84</td>\n",
       "      <td>Red</td>\n",
       "      <td>No</td>\n",
       "      <td>No</td>\n",
       "      <td>Power</td>\n",
       "      <td>150.0</td>\n",
       "      <td>5</td>\n",
       "      <td>242</td>\n",
       "      <td>bangalore</td>\n",
       "    </tr>\n",
       "    <tr>\n",
       "      <th>3</th>\n",
       "      <td>Sedan</td>\n",
       "      <td>17794</td>\n",
       "      <td>Manual</td>\n",
       "      <td>1</td>\n",
       "      <td>Hyundai Xcent</td>\n",
       "      <td>2014</td>\n",
       "      <td>462000.0</td>\n",
       "      <td>Petrol</td>\n",
       "      <td>Comprehensive</td>\n",
       "      <td>5.0</td>\n",
       "      <td>1197.0</td>\n",
       "      <td>19.10</td>\n",
       "      <td>Others</td>\n",
       "      <td>No</td>\n",
       "      <td>No</td>\n",
       "      <td>Power</td>\n",
       "      <td>172.0</td>\n",
       "      <td>4</td>\n",
       "      <td>407</td>\n",
       "      <td>bangalore</td>\n",
       "    </tr>\n",
       "    <tr>\n",
       "      <th>4</th>\n",
       "      <td>SUV</td>\n",
       "      <td>60000</td>\n",
       "      <td>Manual</td>\n",
       "      <td>1</td>\n",
       "      <td>Maruti SX4 S Cross</td>\n",
       "      <td>2015</td>\n",
       "      <td>790000.0</td>\n",
       "      <td>Diesel</td>\n",
       "      <td>Third Party insurance</td>\n",
       "      <td>5.0</td>\n",
       "      <td>1248.0</td>\n",
       "      <td>23.65</td>\n",
       "      <td>Gray</td>\n",
       "      <td>Yes</td>\n",
       "      <td>No</td>\n",
       "      <td>Power</td>\n",
       "      <td>190.0</td>\n",
       "      <td>5</td>\n",
       "      <td>353</td>\n",
       "      <td>bangalore</td>\n",
       "    </tr>\n",
       "  </tbody>\n",
       "</table>\n",
       "</div>"
      ],
      "text/plain": [
       "   Body type  Kilometers driven Transmission type  Number of Owners  \\\n",
       "0  Hatchback             120000            Manual                 3   \n",
       "1        SUV              32706            Manual                 2   \n",
       "2  Hatchback              11949            Manual                 1   \n",
       "3      Sedan              17794            Manual                 1   \n",
       "4        SUV              60000            Manual                 1   \n",
       "\n",
       "            Car model  Year of manufacture     price Fuel Type  \\\n",
       "0      Maruti Celerio                 2015  400000.0    Petrol   \n",
       "1       Ford Ecosport                 2018  811000.0    Petrol   \n",
       "2          Tata Tiago                 2018  585000.0    Petrol   \n",
       "3       Hyundai Xcent                 2014  462000.0    Petrol   \n",
       "4  Maruti SX4 S Cross                 2015  790000.0    Diesel   \n",
       "\n",
       "      Insurance Validity  Seats  Engine  Mileage   Color Turbo Charger  \\\n",
       "0  Third Party insurance    5.0   998.0    23.10   White            No   \n",
       "1          Comprehensive    5.0  1497.0    17.00   White            No   \n",
       "2          Comprehensive    5.0  1199.0    23.84     Red            No   \n",
       "3          Comprehensive    5.0  1197.0    19.10  Others            No   \n",
       "4  Third Party insurance    5.0  1248.0    23.65    Gray           Yes   \n",
       "\n",
       "  Super Charger Steering Type  Top Speed  No of doors  Cargo Volumn       City  \n",
       "0            No         Power      150.0            5           235  bangalore  \n",
       "1            No         Power      170.0            4           352  bangalore  \n",
       "2            No         Power      150.0            5           242  bangalore  \n",
       "3            No         Power      172.0            4           407  bangalore  \n",
       "4            No         Power      190.0            5           353  bangalore  "
      ]
     },
     "execution_count": 81,
     "metadata": {},
     "output_type": "execute_result"
    }
   ],
   "source": [
    "data.head()"
   ]
  },
  {
   "cell_type": "code",
   "execution_count": 82,
   "metadata": {},
   "outputs": [],
   "source": [
    "from sklearn.preprocessing import LabelEncoder, MinMaxScaler"
   ]
  },
  {
   "cell_type": "code",
   "execution_count": 83,
   "metadata": {},
   "outputs": [],
   "source": [
    "le = LabelEncoder()\n",
    "for i in data.select_dtypes(include='object'):\n",
    "    data[i] = le.fit_transform(data[i])"
   ]
  },
  {
   "cell_type": "code",
   "execution_count": 84,
   "metadata": {},
   "outputs": [
    {
     "data": {
      "text/html": [
       "<div>\n",
       "<style scoped>\n",
       "    .dataframe tbody tr th:only-of-type {\n",
       "        vertical-align: middle;\n",
       "    }\n",
       "\n",
       "    .dataframe tbody tr th {\n",
       "        vertical-align: top;\n",
       "    }\n",
       "\n",
       "    .dataframe thead th {\n",
       "        text-align: right;\n",
       "    }\n",
       "</style>\n",
       "<table border=\"1\" class=\"dataframe\">\n",
       "  <thead>\n",
       "    <tr style=\"text-align: right;\">\n",
       "      <th></th>\n",
       "      <th>Body type</th>\n",
       "      <th>Kilometers driven</th>\n",
       "      <th>Transmission type</th>\n",
       "      <th>Number of Owners</th>\n",
       "      <th>Car model</th>\n",
       "      <th>Year of manufacture</th>\n",
       "      <th>price</th>\n",
       "      <th>Fuel Type</th>\n",
       "      <th>Insurance Validity</th>\n",
       "      <th>Seats</th>\n",
       "      <th>Engine</th>\n",
       "      <th>Mileage</th>\n",
       "      <th>Color</th>\n",
       "      <th>Turbo Charger</th>\n",
       "      <th>Super Charger</th>\n",
       "      <th>Steering Type</th>\n",
       "      <th>Top Speed</th>\n",
       "      <th>No of doors</th>\n",
       "      <th>Cargo Volumn</th>\n",
       "      <th>City</th>\n",
       "    </tr>\n",
       "  </thead>\n",
       "  <tbody>\n",
       "    <tr>\n",
       "      <th>0</th>\n",
       "      <td>2</td>\n",
       "      <td>120000</td>\n",
       "      <td>1</td>\n",
       "      <td>3</td>\n",
       "      <td>160</td>\n",
       "      <td>2015</td>\n",
       "      <td>400000.0</td>\n",
       "      <td>4</td>\n",
       "      <td>5</td>\n",
       "      <td>5.0</td>\n",
       "      <td>998.0</td>\n",
       "      <td>23.10</td>\n",
       "      <td>138</td>\n",
       "      <td>0</td>\n",
       "      <td>0</td>\n",
       "      <td>4</td>\n",
       "      <td>150.0</td>\n",
       "      <td>5</td>\n",
       "      <td>235</td>\n",
       "      <td>0</td>\n",
       "    </tr>\n",
       "    <tr>\n",
       "      <th>1</th>\n",
       "      <td>7</td>\n",
       "      <td>32706</td>\n",
       "      <td>1</td>\n",
       "      <td>2</td>\n",
       "      <td>50</td>\n",
       "      <td>2018</td>\n",
       "      <td>811000.0</td>\n",
       "      <td>4</td>\n",
       "      <td>0</td>\n",
       "      <td>5.0</td>\n",
       "      <td>1497.0</td>\n",
       "      <td>17.00</td>\n",
       "      <td>138</td>\n",
       "      <td>0</td>\n",
       "      <td>0</td>\n",
       "      <td>4</td>\n",
       "      <td>170.0</td>\n",
       "      <td>4</td>\n",
       "      <td>352</td>\n",
       "      <td>0</td>\n",
       "    </tr>\n",
       "    <tr>\n",
       "      <th>2</th>\n",
       "      <td>2</td>\n",
       "      <td>11949</td>\n",
       "      <td>1</td>\n",
       "      <td>1</td>\n",
       "      <td>273</td>\n",
       "      <td>2018</td>\n",
       "      <td>585000.0</td>\n",
       "      <td>4</td>\n",
       "      <td>0</td>\n",
       "      <td>5.0</td>\n",
       "      <td>1199.0</td>\n",
       "      <td>23.84</td>\n",
       "      <td>110</td>\n",
       "      <td>0</td>\n",
       "      <td>0</td>\n",
       "      <td>4</td>\n",
       "      <td>150.0</td>\n",
       "      <td>5</td>\n",
       "      <td>242</td>\n",
       "      <td>0</td>\n",
       "    </tr>\n",
       "    <tr>\n",
       "      <th>3</th>\n",
       "      <td>8</td>\n",
       "      <td>17794</td>\n",
       "      <td>1</td>\n",
       "      <td>1</td>\n",
       "      <td>87</td>\n",
       "      <td>2014</td>\n",
       "      <td>462000.0</td>\n",
       "      <td>4</td>\n",
       "      <td>0</td>\n",
       "      <td>5.0</td>\n",
       "      <td>1197.0</td>\n",
       "      <td>19.10</td>\n",
       "      <td>86</td>\n",
       "      <td>0</td>\n",
       "      <td>0</td>\n",
       "      <td>4</td>\n",
       "      <td>172.0</td>\n",
       "      <td>4</td>\n",
       "      <td>407</td>\n",
       "      <td>0</td>\n",
       "    </tr>\n",
       "    <tr>\n",
       "      <th>4</th>\n",
       "      <td>7</td>\n",
       "      <td>60000</td>\n",
       "      <td>1</td>\n",
       "      <td>1</td>\n",
       "      <td>178</td>\n",
       "      <td>2015</td>\n",
       "      <td>790000.0</td>\n",
       "      <td>1</td>\n",
       "      <td>5</td>\n",
       "      <td>5.0</td>\n",
       "      <td>1248.0</td>\n",
       "      <td>23.65</td>\n",
       "      <td>55</td>\n",
       "      <td>3</td>\n",
       "      <td>0</td>\n",
       "      <td>4</td>\n",
       "      <td>190.0</td>\n",
       "      <td>5</td>\n",
       "      <td>353</td>\n",
       "      <td>0</td>\n",
       "    </tr>\n",
       "  </tbody>\n",
       "</table>\n",
       "</div>"
      ],
      "text/plain": [
       "   Body type  Kilometers driven  Transmission type  Number of Owners  \\\n",
       "0          2             120000                  1                 3   \n",
       "1          7              32706                  1                 2   \n",
       "2          2              11949                  1                 1   \n",
       "3          8              17794                  1                 1   \n",
       "4          7              60000                  1                 1   \n",
       "\n",
       "   Car model  Year of manufacture     price  Fuel Type  Insurance Validity  \\\n",
       "0        160                 2015  400000.0          4                   5   \n",
       "1         50                 2018  811000.0          4                   0   \n",
       "2        273                 2018  585000.0          4                   0   \n",
       "3         87                 2014  462000.0          4                   0   \n",
       "4        178                 2015  790000.0          1                   5   \n",
       "\n",
       "   Seats  Engine  Mileage  Color  Turbo Charger  Super Charger  Steering Type  \\\n",
       "0    5.0   998.0    23.10    138              0              0              4   \n",
       "1    5.0  1497.0    17.00    138              0              0              4   \n",
       "2    5.0  1199.0    23.84    110              0              0              4   \n",
       "3    5.0  1197.0    19.10     86              0              0              4   \n",
       "4    5.0  1248.0    23.65     55              3              0              4   \n",
       "\n",
       "   Top Speed  No of doors  Cargo Volumn  City  \n",
       "0      150.0            5           235     0  \n",
       "1      170.0            4           352     0  \n",
       "2      150.0            5           242     0  \n",
       "3      172.0            4           407     0  \n",
       "4      190.0            5           353     0  "
      ]
     },
     "execution_count": 84,
     "metadata": {},
     "output_type": "execute_result"
    }
   ],
   "source": [
    "data.head()"
   ]
  },
  {
   "cell_type": "code",
   "execution_count": 85,
   "metadata": {},
   "outputs": [],
   "source": [
    "data.drop(['Turbo Charger','Car model', 'Color', 'Super Charger','No of doors'], axis=1, inplace=True)"
   ]
  },
  {
   "cell_type": "code",
   "execution_count": 86,
   "metadata": {},
   "outputs": [
    {
     "data": {
      "text/html": [
       "<div>\n",
       "<style scoped>\n",
       "    .dataframe tbody tr th:only-of-type {\n",
       "        vertical-align: middle;\n",
       "    }\n",
       "\n",
       "    .dataframe tbody tr th {\n",
       "        vertical-align: top;\n",
       "    }\n",
       "\n",
       "    .dataframe thead th {\n",
       "        text-align: right;\n",
       "    }\n",
       "</style>\n",
       "<table border=\"1\" class=\"dataframe\">\n",
       "  <thead>\n",
       "    <tr style=\"text-align: right;\">\n",
       "      <th></th>\n",
       "      <th>Body type</th>\n",
       "      <th>Kilometers driven</th>\n",
       "      <th>Transmission type</th>\n",
       "      <th>Number of Owners</th>\n",
       "      <th>Year of manufacture</th>\n",
       "      <th>price</th>\n",
       "      <th>Fuel Type</th>\n",
       "      <th>Insurance Validity</th>\n",
       "      <th>Seats</th>\n",
       "      <th>Engine</th>\n",
       "      <th>Mileage</th>\n",
       "      <th>Steering Type</th>\n",
       "      <th>Top Speed</th>\n",
       "      <th>Cargo Volumn</th>\n",
       "      <th>City</th>\n",
       "    </tr>\n",
       "  </thead>\n",
       "  <tbody>\n",
       "    <tr>\n",
       "      <th>0</th>\n",
       "      <td>2</td>\n",
       "      <td>120000</td>\n",
       "      <td>1</td>\n",
       "      <td>3</td>\n",
       "      <td>2015</td>\n",
       "      <td>400000.0</td>\n",
       "      <td>4</td>\n",
       "      <td>5</td>\n",
       "      <td>5.0</td>\n",
       "      <td>998.0</td>\n",
       "      <td>23.10</td>\n",
       "      <td>4</td>\n",
       "      <td>150.0</td>\n",
       "      <td>235</td>\n",
       "      <td>0</td>\n",
       "    </tr>\n",
       "    <tr>\n",
       "      <th>1</th>\n",
       "      <td>7</td>\n",
       "      <td>32706</td>\n",
       "      <td>1</td>\n",
       "      <td>2</td>\n",
       "      <td>2018</td>\n",
       "      <td>811000.0</td>\n",
       "      <td>4</td>\n",
       "      <td>0</td>\n",
       "      <td>5.0</td>\n",
       "      <td>1497.0</td>\n",
       "      <td>17.00</td>\n",
       "      <td>4</td>\n",
       "      <td>170.0</td>\n",
       "      <td>352</td>\n",
       "      <td>0</td>\n",
       "    </tr>\n",
       "    <tr>\n",
       "      <th>2</th>\n",
       "      <td>2</td>\n",
       "      <td>11949</td>\n",
       "      <td>1</td>\n",
       "      <td>1</td>\n",
       "      <td>2018</td>\n",
       "      <td>585000.0</td>\n",
       "      <td>4</td>\n",
       "      <td>0</td>\n",
       "      <td>5.0</td>\n",
       "      <td>1199.0</td>\n",
       "      <td>23.84</td>\n",
       "      <td>4</td>\n",
       "      <td>150.0</td>\n",
       "      <td>242</td>\n",
       "      <td>0</td>\n",
       "    </tr>\n",
       "    <tr>\n",
       "      <th>3</th>\n",
       "      <td>8</td>\n",
       "      <td>17794</td>\n",
       "      <td>1</td>\n",
       "      <td>1</td>\n",
       "      <td>2014</td>\n",
       "      <td>462000.0</td>\n",
       "      <td>4</td>\n",
       "      <td>0</td>\n",
       "      <td>5.0</td>\n",
       "      <td>1197.0</td>\n",
       "      <td>19.10</td>\n",
       "      <td>4</td>\n",
       "      <td>172.0</td>\n",
       "      <td>407</td>\n",
       "      <td>0</td>\n",
       "    </tr>\n",
       "    <tr>\n",
       "      <th>4</th>\n",
       "      <td>7</td>\n",
       "      <td>60000</td>\n",
       "      <td>1</td>\n",
       "      <td>1</td>\n",
       "      <td>2015</td>\n",
       "      <td>790000.0</td>\n",
       "      <td>1</td>\n",
       "      <td>5</td>\n",
       "      <td>5.0</td>\n",
       "      <td>1248.0</td>\n",
       "      <td>23.65</td>\n",
       "      <td>4</td>\n",
       "      <td>190.0</td>\n",
       "      <td>353</td>\n",
       "      <td>0</td>\n",
       "    </tr>\n",
       "  </tbody>\n",
       "</table>\n",
       "</div>"
      ],
      "text/plain": [
       "   Body type  Kilometers driven  Transmission type  Number of Owners  \\\n",
       "0          2             120000                  1                 3   \n",
       "1          7              32706                  1                 2   \n",
       "2          2              11949                  1                 1   \n",
       "3          8              17794                  1                 1   \n",
       "4          7              60000                  1                 1   \n",
       "\n",
       "   Year of manufacture     price  Fuel Type  Insurance Validity  Seats  \\\n",
       "0                 2015  400000.0          4                   5    5.0   \n",
       "1                 2018  811000.0          4                   0    5.0   \n",
       "2                 2018  585000.0          4                   0    5.0   \n",
       "3                 2014  462000.0          4                   0    5.0   \n",
       "4                 2015  790000.0          1                   5    5.0   \n",
       "\n",
       "   Engine  Mileage  Steering Type  Top Speed  Cargo Volumn  City  \n",
       "0   998.0    23.10              4      150.0           235     0  \n",
       "1  1497.0    17.00              4      170.0           352     0  \n",
       "2  1199.0    23.84              4      150.0           242     0  \n",
       "3  1197.0    19.10              4      172.0           407     0  \n",
       "4  1248.0    23.65              4      190.0           353     0  "
      ]
     },
     "execution_count": 86,
     "metadata": {},
     "output_type": "execute_result"
    }
   ],
   "source": [
    "data.head()"
   ]
  },
  {
   "cell_type": "code",
   "execution_count": 88,
   "metadata": {},
   "outputs": [],
   "source": [
    "feature_cols = [\"Kilometers driven\",\"Number of Owners\",\"Year of manufacture\",\"Seats\",\"Engine\",\"Mileage\",\"Cargo Volumn\"]"
   ]
  },
  {
   "cell_type": "code",
   "execution_count": 89,
   "metadata": {},
   "outputs": [
    {
     "data": {
      "text/plain": [
       "'price'"
      ]
     },
     "execution_count": 89,
     "metadata": {},
     "output_type": "execute_result"
    }
   ],
   "source": [
    "\"price\""
   ]
  },
  {
   "cell_type": "code",
   "execution_count": 90,
   "metadata": {},
   "outputs": [],
   "source": [
    "mm_features = MinMaxScaler()\n",
    "data[feature_cols] = mm_features.fit_transform(data[feature_cols])"
   ]
  },
  {
   "cell_type": "code",
   "execution_count": 91,
   "metadata": {},
   "outputs": [],
   "source": [
    "mm_price = MinMaxScaler()\n",
    "data[[\"price\"]] = mm_price.fit_transform(data[[\"price\"]])\n"
   ]
  },
  {
   "cell_type": "code",
   "execution_count": 92,
   "metadata": {},
   "outputs": [
    {
     "data": {
      "text/html": [
       "<div>\n",
       "<style scoped>\n",
       "    .dataframe tbody tr th:only-of-type {\n",
       "        vertical-align: middle;\n",
       "    }\n",
       "\n",
       "    .dataframe tbody tr th {\n",
       "        vertical-align: top;\n",
       "    }\n",
       "\n",
       "    .dataframe thead th {\n",
       "        text-align: right;\n",
       "    }\n",
       "</style>\n",
       "<table border=\"1\" class=\"dataframe\">\n",
       "  <thead>\n",
       "    <tr style=\"text-align: right;\">\n",
       "      <th></th>\n",
       "      <th>Body type</th>\n",
       "      <th>Kilometers driven</th>\n",
       "      <th>Transmission type</th>\n",
       "      <th>Number of Owners</th>\n",
       "      <th>Year of manufacture</th>\n",
       "      <th>price</th>\n",
       "      <th>Fuel Type</th>\n",
       "      <th>Insurance Validity</th>\n",
       "      <th>Seats</th>\n",
       "      <th>Engine</th>\n",
       "      <th>Mileage</th>\n",
       "      <th>Steering Type</th>\n",
       "      <th>Top Speed</th>\n",
       "      <th>Cargo Volumn</th>\n",
       "      <th>City</th>\n",
       "    </tr>\n",
       "  </thead>\n",
       "  <tbody>\n",
       "    <tr>\n",
       "      <th>0</th>\n",
       "      <td>2</td>\n",
       "      <td>0.021818</td>\n",
       "      <td>1</td>\n",
       "      <td>0.6</td>\n",
       "      <td>0.789474</td>\n",
       "      <td>0.009157</td>\n",
       "      <td>4</td>\n",
       "      <td>5</td>\n",
       "      <td>0.375</td>\n",
       "      <td>0.1996</td>\n",
       "      <td>0.120524</td>\n",
       "      <td>4</td>\n",
       "      <td>150.0</td>\n",
       "      <td>0.000053</td>\n",
       "      <td>0</td>\n",
       "    </tr>\n",
       "    <tr>\n",
       "      <th>1</th>\n",
       "      <td>7</td>\n",
       "      <td>0.005947</td>\n",
       "      <td>1</td>\n",
       "      <td>0.4</td>\n",
       "      <td>0.868421</td>\n",
       "      <td>0.019066</td>\n",
       "      <td>4</td>\n",
       "      <td>0</td>\n",
       "      <td>0.375</td>\n",
       "      <td>0.2994</td>\n",
       "      <td>0.074631</td>\n",
       "      <td>4</td>\n",
       "      <td>170.0</td>\n",
       "      <td>0.000084</td>\n",
       "      <td>0</td>\n",
       "    </tr>\n",
       "    <tr>\n",
       "      <th>2</th>\n",
       "      <td>2</td>\n",
       "      <td>0.002173</td>\n",
       "      <td>1</td>\n",
       "      <td>0.2</td>\n",
       "      <td>0.868421</td>\n",
       "      <td>0.013617</td>\n",
       "      <td>4</td>\n",
       "      <td>0</td>\n",
       "      <td>0.375</td>\n",
       "      <td>0.2398</td>\n",
       "      <td>0.126091</td>\n",
       "      <td>4</td>\n",
       "      <td>150.0</td>\n",
       "      <td>0.000055</td>\n",
       "      <td>0</td>\n",
       "    </tr>\n",
       "    <tr>\n",
       "      <th>3</th>\n",
       "      <td>8</td>\n",
       "      <td>0.003235</td>\n",
       "      <td>1</td>\n",
       "      <td>0.2</td>\n",
       "      <td>0.763158</td>\n",
       "      <td>0.010652</td>\n",
       "      <td>4</td>\n",
       "      <td>0</td>\n",
       "      <td>0.375</td>\n",
       "      <td>0.2394</td>\n",
       "      <td>0.090430</td>\n",
       "      <td>4</td>\n",
       "      <td>172.0</td>\n",
       "      <td>0.000098</td>\n",
       "      <td>0</td>\n",
       "    </tr>\n",
       "    <tr>\n",
       "      <th>4</th>\n",
       "      <td>7</td>\n",
       "      <td>0.010909</td>\n",
       "      <td>1</td>\n",
       "      <td>0.2</td>\n",
       "      <td>0.789474</td>\n",
       "      <td>0.018559</td>\n",
       "      <td>1</td>\n",
       "      <td>5</td>\n",
       "      <td>0.375</td>\n",
       "      <td>0.2496</td>\n",
       "      <td>0.124661</td>\n",
       "      <td>4</td>\n",
       "      <td>190.0</td>\n",
       "      <td>0.000084</td>\n",
       "      <td>0</td>\n",
       "    </tr>\n",
       "  </tbody>\n",
       "</table>\n",
       "</div>"
      ],
      "text/plain": [
       "   Body type  Kilometers driven  Transmission type  Number of Owners  \\\n",
       "0          2           0.021818                  1               0.6   \n",
       "1          7           0.005947                  1               0.4   \n",
       "2          2           0.002173                  1               0.2   \n",
       "3          8           0.003235                  1               0.2   \n",
       "4          7           0.010909                  1               0.2   \n",
       "\n",
       "   Year of manufacture     price  Fuel Type  Insurance Validity  Seats  \\\n",
       "0             0.789474  0.009157          4                   5  0.375   \n",
       "1             0.868421  0.019066          4                   0  0.375   \n",
       "2             0.868421  0.013617          4                   0  0.375   \n",
       "3             0.763158  0.010652          4                   0  0.375   \n",
       "4             0.789474  0.018559          1                   5  0.375   \n",
       "\n",
       "   Engine   Mileage  Steering Type  Top Speed  Cargo Volumn  City  \n",
       "0  0.1996  0.120524              4      150.0      0.000053     0  \n",
       "1  0.2994  0.074631              4      170.0      0.000084     0  \n",
       "2  0.2398  0.126091              4      150.0      0.000055     0  \n",
       "3  0.2394  0.090430              4      172.0      0.000098     0  \n",
       "4  0.2496  0.124661              4      190.0      0.000084     0  "
      ]
     },
     "execution_count": 92,
     "metadata": {},
     "output_type": "execute_result"
    }
   ],
   "source": [
    "data.head()"
   ]
  },
  {
   "cell_type": "code",
   "execution_count": 93,
   "metadata": {},
   "outputs": [],
   "source": [
    "data_corr = data.corr()"
   ]
  },
  {
   "cell_type": "code",
   "execution_count": 94,
   "metadata": {},
   "outputs": [],
   "source": [
    "import seaborn as sns\n",
    "import matplotlib.pyplot as plt"
   ]
  },
  {
   "cell_type": "code",
   "execution_count": 95,
   "metadata": {},
   "outputs": [
    {
     "data": {
      "image/png": "[encoded data removed]",
      "text/plain": [
       "<Figure size 2000x500 with 2 Axes>"
      ]
     },
     "metadata": {},
     "output_type": "display_data"
    }
   ],
   "source": [
    "plt.figure(figsize=(20,5))\n",
    "sns.heatmap(data=data_corr.corr(),annot=True,fmt=\".2f\",cmap=\"coolwarm\")\n",
    "plt.show()"
   ]
  },
  {
   "cell_type": "code",
   "execution_count": 96,
   "metadata": {},
   "outputs": [
    {
     "data": {
      "text/plain": [
       "Index(['Body type', 'Kilometers driven', 'Transmission type',\n",
       "       'Number of Owners', 'Year of manufacture', 'price', 'Fuel Type',\n",
       "       'Insurance Validity', 'Seats', 'Engine', 'Mileage', 'Steering Type',\n",
       "       'Top Speed', 'Cargo Volumn', 'City'],\n",
       "      dtype='object')"
      ]
     },
     "execution_count": 96,
     "metadata": {},
     "output_type": "execute_result"
    }
   ],
   "source": [
    "data.columns"
   ]
  },
  {
   "cell_type": "code",
   "execution_count": 97,
   "metadata": {},
   "outputs": [],
   "source": [
    "from sklearn.model_selection import train_test_split\n",
    "from sklearn.linear_model import LinearRegression, Lasso, Ridge\n",
    "from sklearn.tree import DecisionTreeRegressor\n",
    "from sklearn.ensemble import RandomForestRegressor, GradientBoostingRegressor\n",
    "import xgboost as xg\n",
    "from sklearn.metrics import mean_absolute_error, mean_squared_error, mean_absolute_percentage_error, r2_score\n",
    "import pickle"
   ]
  },
  {
   "cell_type": "code",
   "execution_count": 98,
   "metadata": {},
   "outputs": [],
   "source": [
    "def get_perform(actual, predict):\n",
    "    MAE = mean_absolute_error(actual, predict)\n",
    "    MSE = mean_squared_error(actual, predict)\n",
    "    MAPE = mean_absolute_percentage_error(actual, predict)\n",
    "    r2 = r2_score(actual, predict)\n",
    "    return pd.DataFrame({\n",
    "        \"mean_absolute_error\":[MAE],\n",
    "        \"mean_squared_error\":[MSE],\n",
    "        \"mean_absolute_percentage_error\": [MAPE],\n",
    "        \"r2_score\":[r2]\n",
    "    })"
   ]
  },
  {
   "cell_type": "code",
   "execution_count": 99,
   "metadata": {},
   "outputs": [],
   "source": [
    "val = data.drop(\"price\", axis=1)\n",
    "tar = data[\"price\"]"
   ]
  },
  {
   "cell_type": "code",
   "execution_count": 100,
   "metadata": {},
   "outputs": [],
   "source": [
    "train_data, test_data, train_lab, test_lab = train_test_split(val, tar, test_size=0.20, random_state=56)"
   ]
  },
  {
   "cell_type": "code",
   "execution_count": 101,
   "metadata": {},
   "outputs": [],
   "source": [
    "# RandomForestRegressor Model\n",
    "\n",
    "rfr = RandomForestRegressor(n_estimators= 350,max_depth=100,random_state= 35)\n",
    "rfr.fit(train_data, train_lab)\n",
    "rfr_train_pred = rfr.predict(train_data)\n",
    "rfr_test_pred = rfr.predict(test_data)"
   ]
  },
  {
   "cell_type": "code",
   "execution_count": 102,
   "metadata": {},
   "outputs": [
    {
     "data": {
      "text/html": [
       "<div>\n",
       "<style scoped>\n",
       "    .dataframe tbody tr th:only-of-type {\n",
       "        vertical-align: middle;\n",
       "    }\n",
       "\n",
       "    .dataframe tbody tr th {\n",
       "        vertical-align: top;\n",
       "    }\n",
       "\n",
       "    .dataframe thead th {\n",
       "        text-align: right;\n",
       "    }\n",
       "</style>\n",
       "<table border=\"1\" class=\"dataframe\">\n",
       "  <thead>\n",
       "    <tr style=\"text-align: right;\">\n",
       "      <th></th>\n",
       "      <th>mean_absolute_error</th>\n",
       "      <th>mean_squared_error</th>\n",
       "      <th>mean_absolute_percentage_error</th>\n",
       "      <th>r2_score</th>\n",
       "    </tr>\n",
       "  </thead>\n",
       "  <tbody>\n",
       "    <tr>\n",
       "      <th>0</th>\n",
       "      <td>0.001389</td>\n",
       "      <td>0.000027</td>\n",
       "      <td>1.175132e+09</td>\n",
       "      <td>0.978261</td>\n",
       "    </tr>\n",
       "  </tbody>\n",
       "</table>\n",
       "</div>"
      ],
      "text/plain": [
       "   mean_absolute_error  mean_squared_error  mean_absolute_percentage_error  \\\n",
       "0             0.001389            0.000027                    1.175132e+09   \n",
       "\n",
       "   r2_score  \n",
       "0  0.978261  "
      ]
     },
     "execution_count": 102,
     "metadata": {},
     "output_type": "execute_result"
    }
   ],
   "source": [
    "get_perform(train_lab, rfr_train_pred)"
   ]
  },
  {
   "cell_type": "code",
   "execution_count": 103,
   "metadata": {},
   "outputs": [
    {
     "data": {
      "text/html": [
       "<div>\n",
       "<style scoped>\n",
       "    .dataframe tbody tr th:only-of-type {\n",
       "        vertical-align: middle;\n",
       "    }\n",
       "\n",
       "    .dataframe tbody tr th {\n",
       "        vertical-align: top;\n",
       "    }\n",
       "\n",
       "    .dataframe thead th {\n",
       "        text-align: right;\n",
       "    }\n",
       "</style>\n",
       "<table border=\"1\" class=\"dataframe\">\n",
       "  <thead>\n",
       "    <tr style=\"text-align: right;\">\n",
       "      <th></th>\n",
       "      <th>mean_absolute_error</th>\n",
       "      <th>mean_squared_error</th>\n",
       "      <th>mean_absolute_percentage_error</th>\n",
       "      <th>r2_score</th>\n",
       "    </tr>\n",
       "  </thead>\n",
       "  <tbody>\n",
       "    <tr>\n",
       "      <th>0</th>\n",
       "      <td>0.003505</td>\n",
       "      <td>0.00011</td>\n",
       "      <td>0.172287</td>\n",
       "      <td>0.871582</td>\n",
       "    </tr>\n",
       "  </tbody>\n",
       "</table>\n",
       "</div>"
      ],
      "text/plain": [
       "   mean_absolute_error  mean_squared_error  mean_absolute_percentage_error  \\\n",
       "0             0.003505             0.00011                        0.172287   \n",
       "\n",
       "   r2_score  \n",
       "0  0.871582  "
      ]
     },
     "execution_count": 103,
     "metadata": {},
     "output_type": "execute_result"
    }
   ],
   "source": [
    "get_perform(test_lab, rfr_test_pred)"
   ]
  },
  {
   "cell_type": "code",
   "execution_count": 104,
   "metadata": {},
   "outputs": [],
   "source": [
    "sample_row  = data.loc[[1567]].drop('price', axis=1)"
   ]
  },
  {
   "cell_type": "code",
   "execution_count": 105,
   "metadata": {},
   "outputs": [],
   "source": [
    "predicted_scaled = rfr.predict(sample_row)"
   ]
  },
  {
   "cell_type": "code",
   "execution_count": 106,
   "metadata": {},
   "outputs": [
    {
     "data": {
      "text/plain": [
       "array([0.03938527])"
      ]
     },
     "execution_count": 106,
     "metadata": {},
     "output_type": "execute_result"
    }
   ],
   "source": [
    "predicted_scaled"
   ]
  },
  {
   "cell_type": "code",
   "execution_count": 107,
   "metadata": {},
   "outputs": [],
   "source": [
    "predicted_price = mm_price.inverse_transform(predicted_scaled.reshape(-1, 1))"
   ]
  },
  {
   "cell_type": "code",
   "execution_count": 108,
   "metadata": {},
   "outputs": [
    {
     "data": {
      "text/plain": [
       "array([[1653855.71428571]])"
      ]
     },
     "execution_count": 108,
     "metadata": {},
     "output_type": "execute_result"
    }
   ],
   "source": [
    "predicted_price"
   ]
  },
  {
   "cell_type": "code",
   "execution_count": null,
   "metadata": {},
   "outputs": [],
   "source": []
  },
  {
   "cell_type": "code",
   "execution_count": null,
   "metadata": {},
   "outputs": [],
   "source": []
  },
  {
   "cell_type": "code",
   "execution_count": 21,
   "metadata": {},
   "outputs": [],
   "source": [
    "# DecisionTreeRegressor model\n",
    "\n",
    "dtr = DecisionTreeRegressor(random_state=37)\n",
    "dtr.fit(train_data, train_lab)\n",
    "dtr_train_pred = dtr.predict(train_data)\n",
    "dtr_test_pred = dtr.predict(test_data)"
   ]
  },
  {
   "cell_type": "code",
   "execution_count": 22,
   "metadata": {},
   "outputs": [
    {
     "data": {
      "text/html": [
       "<div>\n",
       "<style scoped>\n",
       "    .dataframe tbody tr th:only-of-type {\n",
       "        vertical-align: middle;\n",
       "    }\n",
       "\n",
       "    .dataframe tbody tr th {\n",
       "        vertical-align: top;\n",
       "    }\n",
       "\n",
       "    .dataframe thead th {\n",
       "        text-align: right;\n",
       "    }\n",
       "</style>\n",
       "<table border=\"1\" class=\"dataframe\">\n",
       "  <thead>\n",
       "    <tr style=\"text-align: right;\">\n",
       "      <th></th>\n",
       "      <th>mean_absolute_error</th>\n",
       "      <th>mean_squared_error</th>\n",
       "      <th>mean_absolute_percentage_error</th>\n",
       "      <th>r2_score</th>\n",
       "    </tr>\n",
       "  </thead>\n",
       "  <tbody>\n",
       "    <tr>\n",
       "      <th>0</th>\n",
       "      <td>0.000024</td>\n",
       "      <td>1.157347e-07</td>\n",
       "      <td>0.001308</td>\n",
       "      <td>0.999907</td>\n",
       "    </tr>\n",
       "  </tbody>\n",
       "</table>\n",
       "</div>"
      ],
      "text/plain": [
       "   mean_absolute_error  mean_squared_error  mean_absolute_percentage_error  \\\n",
       "0             0.000024        1.157347e-07                        0.001308   \n",
       "\n",
       "   r2_score  \n",
       "0  0.999907  "
      ]
     },
     "execution_count": 22,
     "metadata": {},
     "output_type": "execute_result"
    }
   ],
   "source": [
    "get_perform(train_lab,dtr_train_pred)"
   ]
  },
  {
   "cell_type": "code",
   "execution_count": 23,
   "metadata": {},
   "outputs": [
    {
     "data": {
      "text/html": [
       "<div>\n",
       "<style scoped>\n",
       "    .dataframe tbody tr th:only-of-type {\n",
       "        vertical-align: middle;\n",
       "    }\n",
       "\n",
       "    .dataframe tbody tr th {\n",
       "        vertical-align: top;\n",
       "    }\n",
       "\n",
       "    .dataframe thead th {\n",
       "        text-align: right;\n",
       "    }\n",
       "</style>\n",
       "<table border=\"1\" class=\"dataframe\">\n",
       "  <thead>\n",
       "    <tr style=\"text-align: right;\">\n",
       "      <th></th>\n",
       "      <th>mean_absolute_error</th>\n",
       "      <th>mean_squared_error</th>\n",
       "      <th>mean_absolute_percentage_error</th>\n",
       "      <th>r2_score</th>\n",
       "    </tr>\n",
       "  </thead>\n",
       "  <tbody>\n",
       "    <tr>\n",
       "      <th>0</th>\n",
       "      <td>0.004927</td>\n",
       "      <td>0.000354</td>\n",
       "      <td>0.218274</td>\n",
       "      <td>0.587624</td>\n",
       "    </tr>\n",
       "  </tbody>\n",
       "</table>\n",
       "</div>"
      ],
      "text/plain": [
       "   mean_absolute_error  mean_squared_error  mean_absolute_percentage_error  \\\n",
       "0             0.004927            0.000354                        0.218274   \n",
       "\n",
       "   r2_score  \n",
       "0  0.587624  "
      ]
     },
     "execution_count": 23,
     "metadata": {},
     "output_type": "execute_result"
    }
   ],
   "source": [
    "get_perform(test_lab, dtr_test_pred)"
   ]
  },
  {
   "cell_type": "code",
   "execution_count": null,
   "metadata": {},
   "outputs": [],
   "source": []
  },
  {
   "cell_type": "code",
   "execution_count": 24,
   "metadata": {},
   "outputs": [],
   "source": [
    "# GradientBoostingRegressor model\n",
    "gbr = GradientBoostingRegressor(n_estimators= 450, learning_rate= 0.9, random_state= 35)\n",
    "gbr.fit(train_data, train_lab)\n",
    "gbr_train_pred = gbr.predict(train_data)\n",
    "gbr_test_pred = gbr.predict(test_data)"
   ]
  },
  {
   "cell_type": "code",
   "execution_count": 25,
   "metadata": {},
   "outputs": [
    {
     "data": {
      "text/html": [
       "<div>\n",
       "<style scoped>\n",
       "    .dataframe tbody tr th:only-of-type {\n",
       "        vertical-align: middle;\n",
       "    }\n",
       "\n",
       "    .dataframe tbody tr th {\n",
       "        vertical-align: top;\n",
       "    }\n",
       "\n",
       "    .dataframe thead th {\n",
       "        text-align: right;\n",
       "    }\n",
       "</style>\n",
       "<table border=\"1\" class=\"dataframe\">\n",
       "  <thead>\n",
       "    <tr style=\"text-align: right;\">\n",
       "      <th></th>\n",
       "      <th>mean_absolute_error</th>\n",
       "      <th>mean_squared_error</th>\n",
       "      <th>mean_absolute_percentage_error</th>\n",
       "      <th>r2_score</th>\n",
       "    </tr>\n",
       "  </thead>\n",
       "  <tbody>\n",
       "    <tr>\n",
       "      <th>0</th>\n",
       "      <td>0.001403</td>\n",
       "      <td>0.000004</td>\n",
       "      <td>4.617983e+08</td>\n",
       "      <td>0.996764</td>\n",
       "    </tr>\n",
       "  </tbody>\n",
       "</table>\n",
       "</div>"
      ],
      "text/plain": [
       "   mean_absolute_error  mean_squared_error  mean_absolute_percentage_error  \\\n",
       "0             0.001403            0.000004                    4.617983e+08   \n",
       "\n",
       "   r2_score  \n",
       "0  0.996764  "
      ]
     },
     "execution_count": 25,
     "metadata": {},
     "output_type": "execute_result"
    }
   ],
   "source": [
    "get_perform(train_lab, gbr_train_pred)"
   ]
  },
  {
   "cell_type": "code",
   "execution_count": 26,
   "metadata": {},
   "outputs": [
    {
     "data": {
      "text/html": [
       "<div>\n",
       "<style scoped>\n",
       "    .dataframe tbody tr th:only-of-type {\n",
       "        vertical-align: middle;\n",
       "    }\n",
       "\n",
       "    .dataframe tbody tr th {\n",
       "        vertical-align: top;\n",
       "    }\n",
       "\n",
       "    .dataframe thead th {\n",
       "        text-align: right;\n",
       "    }\n",
       "</style>\n",
       "<table border=\"1\" class=\"dataframe\">\n",
       "  <thead>\n",
       "    <tr style=\"text-align: right;\">\n",
       "      <th></th>\n",
       "      <th>mean_absolute_error</th>\n",
       "      <th>mean_squared_error</th>\n",
       "      <th>mean_absolute_percentage_error</th>\n",
       "      <th>r2_score</th>\n",
       "    </tr>\n",
       "  </thead>\n",
       "  <tbody>\n",
       "    <tr>\n",
       "      <th>0</th>\n",
       "      <td>0.004673</td>\n",
       "      <td>0.000357</td>\n",
       "      <td>0.256974</td>\n",
       "      <td>0.584158</td>\n",
       "    </tr>\n",
       "  </tbody>\n",
       "</table>\n",
       "</div>"
      ],
      "text/plain": [
       "   mean_absolute_error  mean_squared_error  mean_absolute_percentage_error  \\\n",
       "0             0.004673            0.000357                        0.256974   \n",
       "\n",
       "   r2_score  \n",
       "0  0.584158  "
      ]
     },
     "execution_count": 26,
     "metadata": {},
     "output_type": "execute_result"
    }
   ],
   "source": [
    "get_perform(test_lab, gbr_test_pred)"
   ]
  },
  {
   "cell_type": "code",
   "execution_count": null,
   "metadata": {},
   "outputs": [],
   "source": []
  },
  {
   "cell_type": "code",
   "execution_count": 27,
   "metadata": {},
   "outputs": [],
   "source": [
    "# XGBRegressor Model\n",
    "\n",
    "xgr = xg.XGBRegressor(n_estimators= 250, learning_rate= 0.07, random_state= 53)\n",
    "xgr.fit(train_data, train_lab)\n",
    "xgr_train_pred = xgr.predict(train_data)\n",
    "xgr_test_pred = xgr.predict(test_data)"
   ]
  },
  {
   "cell_type": "code",
   "execution_count": 28,
   "metadata": {},
   "outputs": [
    {
     "data": {
      "text/html": [
       "<div>\n",
       "<style scoped>\n",
       "    .dataframe tbody tr th:only-of-type {\n",
       "        vertical-align: middle;\n",
       "    }\n",
       "\n",
       "    .dataframe tbody tr th {\n",
       "        vertical-align: top;\n",
       "    }\n",
       "\n",
       "    .dataframe thead th {\n",
       "        text-align: right;\n",
       "    }\n",
       "</style>\n",
       "<table border=\"1\" class=\"dataframe\">\n",
       "  <thead>\n",
       "    <tr style=\"text-align: right;\">\n",
       "      <th></th>\n",
       "      <th>mean_absolute_error</th>\n",
       "      <th>mean_squared_error</th>\n",
       "      <th>mean_absolute_percentage_error</th>\n",
       "      <th>r2_score</th>\n",
       "    </tr>\n",
       "  </thead>\n",
       "  <tbody>\n",
       "    <tr>\n",
       "      <th>0</th>\n",
       "      <td>0.001774</td>\n",
       "      <td>0.000008</td>\n",
       "      <td>1.626355e+09</td>\n",
       "      <td>0.993703</td>\n",
       "    </tr>\n",
       "  </tbody>\n",
       "</table>\n",
       "</div>"
      ],
      "text/plain": [
       "   mean_absolute_error  mean_squared_error  mean_absolute_percentage_error  \\\n",
       "0             0.001774            0.000008                    1.626355e+09   \n",
       "\n",
       "   r2_score  \n",
       "0  0.993703  "
      ]
     },
     "execution_count": 28,
     "metadata": {},
     "output_type": "execute_result"
    }
   ],
   "source": [
    "get_perform(train_lab, xgr_train_pred)"
   ]
  },
  {
   "cell_type": "code",
   "execution_count": 29,
   "metadata": {},
   "outputs": [
    {
     "data": {
      "text/html": [
       "<div>\n",
       "<style scoped>\n",
       "    .dataframe tbody tr th:only-of-type {\n",
       "        vertical-align: middle;\n",
       "    }\n",
       "\n",
       "    .dataframe tbody tr th {\n",
       "        vertical-align: top;\n",
       "    }\n",
       "\n",
       "    .dataframe thead th {\n",
       "        text-align: right;\n",
       "    }\n",
       "</style>\n",
       "<table border=\"1\" class=\"dataframe\">\n",
       "  <thead>\n",
       "    <tr style=\"text-align: right;\">\n",
       "      <th></th>\n",
       "      <th>mean_absolute_error</th>\n",
       "      <th>mean_squared_error</th>\n",
       "      <th>mean_absolute_percentage_error</th>\n",
       "      <th>r2_score</th>\n",
       "    </tr>\n",
       "  </thead>\n",
       "  <tbody>\n",
       "    <tr>\n",
       "      <th>0</th>\n",
       "      <td>0.003519</td>\n",
       "      <td>0.000129</td>\n",
       "      <td>0.179594</td>\n",
       "      <td>0.849237</td>\n",
       "    </tr>\n",
       "  </tbody>\n",
       "</table>\n",
       "</div>"
      ],
      "text/plain": [
       "   mean_absolute_error  mean_squared_error  mean_absolute_percentage_error  \\\n",
       "0             0.003519            0.000129                        0.179594   \n",
       "\n",
       "   r2_score  \n",
       "0  0.849237  "
      ]
     },
     "execution_count": 29,
     "metadata": {},
     "output_type": "execute_result"
    }
   ],
   "source": [
    "get_perform(test_lab, xgr_test_pred)"
   ]
  },
  {
   "cell_type": "code",
   "execution_count": null,
   "metadata": {},
   "outputs": [],
   "source": []
  },
  {
   "cell_type": "code",
   "execution_count": 109,
   "metadata": {},
   "outputs": [
    {
     "name": "stderr",
     "output_type": "stream",
     "text": [
      "<>:1: SyntaxWarning: invalid escape sequence '\\G'\n",
      "<>:1: SyntaxWarning: invalid escape sequence '\\G'\n",
      "C:\\Users\\syeda\\AppData\\Local\\Temp\\ipykernel_9220\\629203209.py:1: SyntaxWarning: invalid escape sequence '\\G'\n",
      "  data.to_csv(\"F:\\GUVI\\Project\\Car Dekho\\Codes\\model_data\\encodeded_data.csv\")\n"
     ]
    }
   ],
   "source": [
    "data.to_csv(\"F:\\GUVI\\Project\\Car Dekho\\Codes\\model_data\\encodeded_data.csv\")"
   ]
  },
  {
   "cell_type": "code",
   "execution_count": null,
   "metadata": {},
   "outputs": [],
   "source": []
  }
 ],
 "metadata": {
  "kernelspec": {
   "display_name": "Python 3",
   "language": "python",
   "name": "python3"
  },
  "language_info": {
   "codemirror_mode": {
    "name": "ipython",
    "version": 3
   },
   "file_extension": ".py",
   "mimetype": "text/x-python",
   "name": "python",
   "nbconvert_exporter": "python",
   "pygments_lexer": "ipython3",
   "version": "3.12.4"
  }
 },
 "nbformat": 4,
 "nbformat_minor": 2
}
